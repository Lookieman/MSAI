{
  "nbformat": 4,
  "nbformat_minor": 0,
  "metadata": {
    "colab": {
      "provenance": [],
      "mount_file_id": "10nsidCLVzVICKpqNr3zhEzLEQ_cRushb",
      "authorship_tag": "ABX9TyOwE5+YjxmjFU0liwPUPOd3",
      "include_colab_link": true
    },
    "kernelspec": {
      "name": "python3",
      "display_name": "Python 3"
    },
    "language_info": {
      "name": "python"
    }
  },
  "cells": [
    {
      "cell_type": "markdown",
      "metadata": {
        "id": "view-in-github",
        "colab_type": "text"
      },
      "source": [
        "<a href=\"https://colab.research.google.com/github/Lookieman/MSAI/blob/main/AI6102/AI6102_Assignment1.ipynb\" target=\"_parent\"><img src=\"https://colab.research.google.com/assets/colab-badge.svg\" alt=\"Open In Colab\"/></a>"
      ]
    },
    {
      "cell_type": "code",
      "execution_count": null,
      "metadata": {
        "colab": {
          "base_uri": "https://localhost:8080/"
        },
        "id": "WyQS9eHWkatH",
        "outputId": "845d0ad7-e0bf-43f3-bebb-31a185bbc244"
      },
      "outputs": [
        {
          "output_type": "stream",
          "name": "stdout",
          "text": [
            "\n",
            "System:\n",
            "    python: 3.10.12 (main, Jul 29 2024, 16:56:48) [GCC 11.4.0]\n",
            "executable: /usr/bin/python3\n",
            "   machine: Linux-6.1.85+-x86_64-with-glibc2.35\n",
            "\n",
            "Python dependencies:\n",
            "      sklearn: 1.3.2\n",
            "          pip: 24.1.2\n",
            "   setuptools: 71.0.4\n",
            "        numpy: 1.26.4\n",
            "        scipy: 1.13.1\n",
            "       Cython: 3.0.11\n",
            "       pandas: 2.1.4\n",
            "   matplotlib: 3.7.1\n",
            "       joblib: 1.4.2\n",
            "threadpoolctl: 3.5.0\n",
            "\n",
            "Built with OpenMP: True\n",
            "\n",
            "threadpoolctl info:\n",
            "       user_api: blas\n",
            "   internal_api: openblas\n",
            "    num_threads: 2\n",
            "         prefix: libopenblas\n",
            "       filepath: /usr/local/lib/python3.10/dist-packages/numpy.libs/libopenblas64_p-r0-0cf96a72.3.23.dev.so\n",
            "        version: 0.3.23.dev\n",
            "threading_layer: pthreads\n",
            "   architecture: Haswell\n",
            "\n",
            "       user_api: openmp\n",
            "   internal_api: openmp\n",
            "    num_threads: 2\n",
            "         prefix: libgomp\n",
            "       filepath: /usr/local/lib/python3.10/dist-packages/scikit_learn.libs/libgomp-a34b3233.so.1.0.0\n",
            "        version: None\n",
            "\n",
            "       user_api: blas\n",
            "   internal_api: openblas\n",
            "    num_threads: 2\n",
            "         prefix: libopenblas\n",
            "       filepath: /usr/local/lib/python3.10/dist-packages/scipy.libs/libopenblasp-r0-01191904.3.27.so\n",
            "        version: 0.3.27\n",
            "threading_layer: pthreads\n",
            "   architecture: Haswell\n"
          ]
        }
      ],
      "source": [
        "from sklearn import show_versions\n",
        "show_versions()"
      ]
    },
    {
      "cell_type": "code",
      "source": [
        "from google.colab import drive\n",
        "drive.mount('/content/drive/')"
      ],
      "metadata": {
        "id": "lC9x7z-7mKbk",
        "colab": {
          "base_uri": "https://localhost:8080/"
        },
        "outputId": "0b0c2c4d-aa8c-4d4d-de4a-063c272c635a"
      },
      "execution_count": null,
      "outputs": [
        {
          "output_type": "stream",
          "name": "stdout",
          "text": [
            "Mounted at /content/drive/\n"
          ]
        }
      ]
    },
    {
      "cell_type": "code",
      "source": [
        "%cd"
      ],
      "metadata": {
        "colab": {
          "base_uri": "https://localhost:8080/"
        },
        "id": "bw7YQ6BKJVuS",
        "outputId": "f2b1dc03-567f-4ab7-93ef-7975d14b5955"
      },
      "execution_count": null,
      "outputs": [
        {
          "output_type": "stream",
          "name": "stdout",
          "text": [
            "\u001b[0m\u001b[01;34mdrive\u001b[0m/  \u001b[01;34msample_data\u001b[0m/\n"
          ]
        }
      ]
    },
    {
      "cell_type": "markdown",
      "source": [
        "Set input parameters"
      ],
      "metadata": {
        "id": "0LhYysQx1MJ0"
      }
    },
    {
      "cell_type": "code",
      "source": [
        "from sklearn.svm import SVC\n",
        "from sklearn.datasets import load_svmlight_file\n",
        "from sklearn.model_selection import cross_val_score\n",
        "import numpy as np"
      ],
      "metadata": {
        "id": "RGhaTksoLRtk"
      },
      "execution_count": null,
      "outputs": []
    },
    {
      "cell_type": "markdown",
      "source": [
        "Set data path and load data path"
      ],
      "metadata": {
        "id": "QmhetFsF1RZc"
      }
    },
    {
      "cell_type": "code",
      "source": [
        "data_path = '/content/drive/MyDrive/Colab_Notebooks/a9a.txt'\n",
        "X,y = load_svmlight_file(data_path)"
      ],
      "metadata": {
        "id": "FzPfub2kyrtu"
      },
      "execution_count": null,
      "outputs": []
    },
    {
      "cell_type": "markdown",
      "source": [
        "Split data and perform 3-fold cross validation using Linear Kernel method. C=\n",
        "{0.01, 0.05, 0.1, 0.5, 1}"
      ],
      "metadata": {
        "id": "mqhGJkl95v-b"
      }
    },
    {
      "cell_type": "code",
      "source": [
        "cVal = {0.01, 0.05, 0.1, 0.5, 1}\n",
        "\n",
        "#Initialize SVC\n",
        "\n",
        "for singleCVal in cVal:\n",
        "  svm = SVC(kernel='linear', C=singleCVal)\n",
        "\n",
        "  #Perform 3-fold cross validation\n",
        "  scores = cross_val_score(svm, X, y, cv=3, scoring='accuracy')\n",
        "  print(f\"When C = {singleCVal}, scores is: {scores}\")\n",
        "\n"
      ],
      "metadata": {
        "colab": {
          "base_uri": "https://localhost:8080/"
        },
        "id": "qimW30G95vKN",
        "outputId": "9410dc97-37b2-456e-e74d-4481c2eb679e"
      },
      "execution_count": null,
      "outputs": [
        {
          "output_type": "stream",
          "name": "stdout",
          "text": [
            "When C = 0.05, scores is: [0.84374424 0.84604754 0.84852115]\n",
            "When C = 0.5, scores is: [0.8444813  0.84733739 0.84898185]\n",
            "When C = 0.1, scores is: [0.84438917 0.84660033 0.84833687]\n",
            "When C = 1, scores is: [0.84466556 0.84733739 0.84962683]\n",
            "When C = 0.01, scores is: [0.84199374 0.84494196 0.84511195]\n"
          ]
        }
      ]
    }
  ]
}